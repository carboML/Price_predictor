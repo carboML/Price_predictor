{
 "cells": [
  {
   "cell_type": "markdown",
   "id": "eda894e5",
   "metadata": {},
   "source": [
    "# <center>Data Scientist Capstone <center>"
   ]
  },
  {
   "cell_type": "markdown",
   "id": "7b576411",
   "metadata": {},
   "source": [
    "Buying a new car is not always the best option. There are many people that like to change cars over the months. Others just don't have enough money to buy a brand new car. There are also cases where someone has just gotten their driver's license and prefers to learn how to drive in a cheaper car.\n",
    "\n",
    "The second hand market is full of options when buying a second hand car. This market is controlled by the seller. This way, the prices may vary a lot.\n",
    "\n",
    "My goal is to estimate the price of a car based on certain features. This way, we can know if the car we want to buy is cheap or expensive.\n",
    "    "
   ]
  },
  {
   "cell_type": "code",
   "execution_count": 1,
   "id": "94d11aca",
   "metadata": {},
   "outputs": [],
   "source": [
    "import pandas as pd\n",
    "import numpy as np\n",
    "import seaborn as sns\n",
    "from carbo import*"
   ]
  },
  {
   "cell_type": "markdown",
   "id": "832c505b",
   "metadata": {},
   "source": [
    "----------------------------------------\n",
    "## <center>Extract<center>\n",
    "  \n",
    "--------------------------"
   ]
  },
  {
   "cell_type": "markdown",
   "id": "3d069b9c",
   "metadata": {},
   "source": [
    "These dataset came from https://www.kaggle.com/datasets/adityadesai13/used-car-dataset-ford-and-mercedes\n",
    "\n",
    "\n",
    "This is scraped data of used cars listings. 100,000 listings, which have been separated into files corresponding to each car manufacturer. Each of the `.csv` have listings cars for a certain car brand"
   ]
  },
  {
   "cell_type": "code",
   "execution_count": 2,
   "id": "e8eb920b",
   "metadata": {},
   "outputs": [],
   "source": [
    "audi_df = pd.read_csv('data/audi.csv')\n",
    "bmw_df = pd.read_csv('data/bmw.csv')\n",
    "ford_df = pd.read_csv('data/ford.csv')\n",
    "hyundai_df = pd.read_csv('data/hyundi.csv')\n",
    "merc_df = pd.read_csv('data/merc.csv')\n",
    "skoda_df = pd.read_csv('data/skoda.csv')\n",
    "toyota_df = pd.read_csv('data/toyota.csv')\n",
    "vauxhall_df = pd.read_csv('data/vauxhall.csv')\n",
    "vw_df = pd.read_csv('data/vw.csv')\n",
    "\n"
   ]
  },
  {
   "cell_type": "code",
   "execution_count": 3,
   "id": "a1632e9d",
   "metadata": {},
   "outputs": [
    {
     "name": "stdout",
     "output_type": "stream",
     "text": [
      "(10668, 9) (10781, 9) (17965, 9) (4860, 9) (13119, 9) (6267, 9) (6738, 9) (13632, 9) (15157, 9)\n"
     ]
    }
   ],
   "source": [
    "print(audi_df.shape, bmw_df.shape ,ford_df.shape,hyundai_df.shape, merc_df.shape,skoda_df.shape,toyota_df.shape,vauxhall_df.shape,vw_df.shape)"
   ]
  },
  {
   "cell_type": "markdown",
   "id": "1b8eefcb",
   "metadata": {},
   "source": [
    "All the dataframes seem to have the same column size. The features are:"
   ]
  },
  {
   "cell_type": "code",
   "execution_count": 4,
   "id": "cbaa8f93",
   "metadata": {},
   "outputs": [
    {
     "data": {
      "text/plain": [
       "Index(['model', 'year', 'price', 'transmission', 'mileage', 'fuelType', 'tax',\n",
       "       'mpg', 'engineSize'],\n",
       "      dtype='object')"
      ]
     },
     "execution_count": 4,
     "metadata": {},
     "output_type": "execute_result"
    }
   ],
   "source": [
    "ford_df.columns"
   ]
  },
  {
   "cell_type": "code",
   "execution_count": 5,
   "id": "bcbab472",
   "metadata": {},
   "outputs": [
    {
     "data": {
      "text/plain": [
       "Index(['model', 'year', 'price', 'transmission', 'mileage', 'fuelType',\n",
       "       'tax(£)', 'mpg', 'engineSize'],\n",
       "      dtype='object')"
      ]
     },
     "execution_count": 5,
     "metadata": {},
     "output_type": "execute_result"
    }
   ],
   "source": [
    "hyundai_df.columns"
   ]
  },
  {
   "cell_type": "code",
   "execution_count": 6,
   "id": "4f85014e",
   "metadata": {},
   "outputs": [],
   "source": [
    "# The tax column in hyndais is different named, I'm going to rename this:\n",
    "hyundai_df.rename(columns={\"tax(£)\": \"tax\"},inplace = True)"
   ]
  },
  {
   "cell_type": "markdown",
   "id": "dc045d7d",
   "metadata": {},
   "source": [
    "I want to merge all the dataframes together, but by doing this, some information is going to be lost, the brand of the model. This is why before merging all dataframes, I'm adding a new column to each dataset: `car_brand`"
   ]
  },
  {
   "cell_type": "code",
   "execution_count": 7,
   "id": "38461457",
   "metadata": {},
   "outputs": [],
   "source": [
    "audi_df['car_brand'] = 'audi'\n",
    "bmw_df['car_brand'] = 'bmw'\n",
    "ford_df['car_brand'] = 'ford'\n",
    "hyundai_df['car_brand'] = 'hyundai'\n",
    "merc_df['car_brand'] = 'mercedes'\n",
    "skoda_df['car_brand'] = 'skoda'\n",
    "toyota_df['car_brand'] = 'toyota'\n",
    "vauxhall_df['car_brand'] = 'opel'\n",
    "vw_df['car_brand'] = 'volkswagen'\n"
   ]
  },
  {
   "cell_type": "code",
   "execution_count": 8,
   "id": "b6423185",
   "metadata": {},
   "outputs": [
    {
     "data": {
      "text/html": [
       "<div>\n",
       "<style scoped>\n",
       "    .dataframe tbody tr th:only-of-type {\n",
       "        vertical-align: middle;\n",
       "    }\n",
       "\n",
       "    .dataframe tbody tr th {\n",
       "        vertical-align: top;\n",
       "    }\n",
       "\n",
       "    .dataframe thead th {\n",
       "        text-align: right;\n",
       "    }\n",
       "</style>\n",
       "<table border=\"1\" class=\"dataframe\">\n",
       "  <thead>\n",
       "    <tr style=\"text-align: right;\">\n",
       "      <th></th>\n",
       "      <th>model</th>\n",
       "      <th>year</th>\n",
       "      <th>price</th>\n",
       "      <th>transmission</th>\n",
       "      <th>mileage</th>\n",
       "      <th>fuelType</th>\n",
       "      <th>tax</th>\n",
       "      <th>mpg</th>\n",
       "      <th>engineSize</th>\n",
       "      <th>car_brand</th>\n",
       "    </tr>\n",
       "  </thead>\n",
       "  <tbody>\n",
       "    <tr>\n",
       "      <th>0</th>\n",
       "      <td>T-Roc</td>\n",
       "      <td>2019</td>\n",
       "      <td>25000</td>\n",
       "      <td>Automatic</td>\n",
       "      <td>13904</td>\n",
       "      <td>Diesel</td>\n",
       "      <td>145</td>\n",
       "      <td>49.6</td>\n",
       "      <td>2.0</td>\n",
       "      <td>volkswagen</td>\n",
       "    </tr>\n",
       "    <tr>\n",
       "      <th>1</th>\n",
       "      <td>T-Roc</td>\n",
       "      <td>2019</td>\n",
       "      <td>26883</td>\n",
       "      <td>Automatic</td>\n",
       "      <td>4562</td>\n",
       "      <td>Diesel</td>\n",
       "      <td>145</td>\n",
       "      <td>49.6</td>\n",
       "      <td>2.0</td>\n",
       "      <td>volkswagen</td>\n",
       "    </tr>\n",
       "    <tr>\n",
       "      <th>2</th>\n",
       "      <td>T-Roc</td>\n",
       "      <td>2019</td>\n",
       "      <td>20000</td>\n",
       "      <td>Manual</td>\n",
       "      <td>7414</td>\n",
       "      <td>Diesel</td>\n",
       "      <td>145</td>\n",
       "      <td>50.4</td>\n",
       "      <td>2.0</td>\n",
       "      <td>volkswagen</td>\n",
       "    </tr>\n",
       "    <tr>\n",
       "      <th>3</th>\n",
       "      <td>T-Roc</td>\n",
       "      <td>2019</td>\n",
       "      <td>33492</td>\n",
       "      <td>Automatic</td>\n",
       "      <td>4825</td>\n",
       "      <td>Petrol</td>\n",
       "      <td>145</td>\n",
       "      <td>32.5</td>\n",
       "      <td>2.0</td>\n",
       "      <td>volkswagen</td>\n",
       "    </tr>\n",
       "    <tr>\n",
       "      <th>4</th>\n",
       "      <td>T-Roc</td>\n",
       "      <td>2019</td>\n",
       "      <td>22900</td>\n",
       "      <td>Semi-Auto</td>\n",
       "      <td>6500</td>\n",
       "      <td>Petrol</td>\n",
       "      <td>150</td>\n",
       "      <td>39.8</td>\n",
       "      <td>1.5</td>\n",
       "      <td>volkswagen</td>\n",
       "    </tr>\n",
       "  </tbody>\n",
       "</table>\n",
       "</div>"
      ],
      "text/plain": [
       "    model  year  price transmission  mileage fuelType  tax   mpg  engineSize  \\\n",
       "0   T-Roc  2019  25000    Automatic    13904   Diesel  145  49.6         2.0   \n",
       "1   T-Roc  2019  26883    Automatic     4562   Diesel  145  49.6         2.0   \n",
       "2   T-Roc  2019  20000       Manual     7414   Diesel  145  50.4         2.0   \n",
       "3   T-Roc  2019  33492    Automatic     4825   Petrol  145  32.5         2.0   \n",
       "4   T-Roc  2019  22900    Semi-Auto     6500   Petrol  150  39.8         1.5   \n",
       "\n",
       "    car_brand  \n",
       "0  volkswagen  \n",
       "1  volkswagen  \n",
       "2  volkswagen  \n",
       "3  volkswagen  \n",
       "4  volkswagen  "
      ]
     },
     "execution_count": 8,
     "metadata": {},
     "output_type": "execute_result"
    }
   ],
   "source": [
    "vw_df.head()"
   ]
  },
  {
   "cell_type": "code",
   "execution_count": 9,
   "id": "4500c884",
   "metadata": {},
   "outputs": [],
   "source": [
    "df = pd.concat([audi_df, bmw_df,ford_df,hyundai_df,merc_df,skoda_df,toyota_df,vauxhall_df,vw_df], ignore_index=True)"
   ]
  },
  {
   "cell_type": "code",
   "execution_count": 10,
   "id": "5644adcd",
   "metadata": {},
   "outputs": [
    {
     "data": {
      "text/plain": [
       "(99187, 10)"
      ]
     },
     "execution_count": 10,
     "metadata": {},
     "output_type": "execute_result"
    }
   ],
   "source": [
    "df.shape"
   ]
  },
  {
   "cell_type": "code",
   "execution_count": 11,
   "id": "3df28efc",
   "metadata": {},
   "outputs": [
    {
     "data": {
      "text/html": [
       "<div>\n",
       "<style scoped>\n",
       "    .dataframe tbody tr th:only-of-type {\n",
       "        vertical-align: middle;\n",
       "    }\n",
       "\n",
       "    .dataframe tbody tr th {\n",
       "        vertical-align: top;\n",
       "    }\n",
       "\n",
       "    .dataframe thead th {\n",
       "        text-align: right;\n",
       "    }\n",
       "</style>\n",
       "<table border=\"1\" class=\"dataframe\">\n",
       "  <thead>\n",
       "    <tr style=\"text-align: right;\">\n",
       "      <th></th>\n",
       "      <th>model</th>\n",
       "      <th>year</th>\n",
       "      <th>price</th>\n",
       "      <th>transmission</th>\n",
       "      <th>mileage</th>\n",
       "      <th>fuelType</th>\n",
       "      <th>tax</th>\n",
       "      <th>mpg</th>\n",
       "      <th>engineSize</th>\n",
       "      <th>car_brand</th>\n",
       "    </tr>\n",
       "  </thead>\n",
       "  <tbody>\n",
       "    <tr>\n",
       "      <th>0</th>\n",
       "      <td>A1</td>\n",
       "      <td>2017</td>\n",
       "      <td>12500</td>\n",
       "      <td>Manual</td>\n",
       "      <td>15735</td>\n",
       "      <td>Petrol</td>\n",
       "      <td>150</td>\n",
       "      <td>55.4</td>\n",
       "      <td>1.4</td>\n",
       "      <td>audi</td>\n",
       "    </tr>\n",
       "    <tr>\n",
       "      <th>1</th>\n",
       "      <td>A6</td>\n",
       "      <td>2016</td>\n",
       "      <td>16500</td>\n",
       "      <td>Automatic</td>\n",
       "      <td>36203</td>\n",
       "      <td>Diesel</td>\n",
       "      <td>20</td>\n",
       "      <td>64.2</td>\n",
       "      <td>2.0</td>\n",
       "      <td>audi</td>\n",
       "    </tr>\n",
       "    <tr>\n",
       "      <th>2</th>\n",
       "      <td>A1</td>\n",
       "      <td>2016</td>\n",
       "      <td>11000</td>\n",
       "      <td>Manual</td>\n",
       "      <td>29946</td>\n",
       "      <td>Petrol</td>\n",
       "      <td>30</td>\n",
       "      <td>55.4</td>\n",
       "      <td>1.4</td>\n",
       "      <td>audi</td>\n",
       "    </tr>\n",
       "    <tr>\n",
       "      <th>3</th>\n",
       "      <td>A4</td>\n",
       "      <td>2017</td>\n",
       "      <td>16800</td>\n",
       "      <td>Automatic</td>\n",
       "      <td>25952</td>\n",
       "      <td>Diesel</td>\n",
       "      <td>145</td>\n",
       "      <td>67.3</td>\n",
       "      <td>2.0</td>\n",
       "      <td>audi</td>\n",
       "    </tr>\n",
       "    <tr>\n",
       "      <th>4</th>\n",
       "      <td>A3</td>\n",
       "      <td>2019</td>\n",
       "      <td>17300</td>\n",
       "      <td>Manual</td>\n",
       "      <td>1998</td>\n",
       "      <td>Petrol</td>\n",
       "      <td>145</td>\n",
       "      <td>49.6</td>\n",
       "      <td>1.0</td>\n",
       "      <td>audi</td>\n",
       "    </tr>\n",
       "  </tbody>\n",
       "</table>\n",
       "</div>"
      ],
      "text/plain": [
       "  model  year  price transmission  mileage fuelType  tax   mpg  engineSize  \\\n",
       "0    A1  2017  12500       Manual    15735   Petrol  150  55.4         1.4   \n",
       "1    A6  2016  16500    Automatic    36203   Diesel   20  64.2         2.0   \n",
       "2    A1  2016  11000       Manual    29946   Petrol   30  55.4         1.4   \n",
       "3    A4  2017  16800    Automatic    25952   Diesel  145  67.3         2.0   \n",
       "4    A3  2019  17300       Manual     1998   Petrol  145  49.6         1.0   \n",
       "\n",
       "  car_brand  \n",
       "0      audi  \n",
       "1      audi  \n",
       "2      audi  \n",
       "3      audi  \n",
       "4      audi  "
      ]
     },
     "execution_count": 11,
     "metadata": {},
     "output_type": "execute_result"
    }
   ],
   "source": [
    "df.head()"
   ]
  },
  {
   "cell_type": "markdown",
   "id": "a0251923",
   "metadata": {},
   "source": [
    "------------\n",
    "## <center>TRANSFORM<center>\n",
    "-------------------\n",
    "Now I am going to take a look at some of the Nan values, empty and duplicated rows.\n"
   ]
  },
  {
   "cell_type": "code",
   "execution_count": 12,
   "id": "a626cd36",
   "metadata": {
    "scrolled": true
   },
   "outputs": [
    {
     "name": "stdout",
     "output_type": "stream",
     "text": [
      "The number of Nan values in the column model is: 0\n",
      "The number of Nan values in the column year is: 0\n",
      "The number of Nan values in the column price is: 0\n",
      "The number of Nan values in the column transmission is: 0\n",
      "The number of Nan values in the column mileage is: 0\n",
      "The number of Nan values in the column fuelType is: 0\n",
      "The number of Nan values in the column tax is: 0\n",
      "The number of Nan values in the column mpg is: 0\n",
      "The number of Nan values in the column engineSize is: 0\n",
      "The number of Nan values in the column car_brand is: 0\n"
     ]
    }
   ],
   "source": [
    "for feature in df.columns:\n",
    "    print('The number of Nan values in the column', feature, 'is:',df[feature].isnull().sum())\n"
   ]
  },
  {
   "cell_type": "code",
   "execution_count": 16,
   "id": "61ba0877",
   "metadata": {
    "scrolled": true
   },
   "outputs": [
    {
     "name": "stdout",
     "output_type": "stream",
     "text": [
      "Number of full duplicated rows ( two indentical rows): 1475\n"
     ]
    }
   ],
   "source": [
    "# check number of duplicates\n",
    "\n",
    "print('Number of full duplicated rows ( two indentical rows):',df.duplicated().sum())\n",
    "\n",
    "# But, in this case, since we have nearly 100K rows,\n",
    "# We shouldn't drop these, since, there is possible to sold the same car ( with the same characteristics) at the same price"
   ]
  },
  {
   "cell_type": "code",
   "execution_count": 17,
   "id": "0478f769",
   "metadata": {},
   "outputs": [
    {
     "name": "stdout",
     "output_type": "stream",
     "text": [
      "         model  year  price transmission  mileage fuelType  tax   mpg  \\\n",
      "39175   Fiesta  2060   6495    Automatic    54807   Petrol  205  42.8   \n",
      "\n",
      "       engineSize car_brand  \n",
      "39175         1.4      ford  \n"
     ]
    }
   ],
   "source": [
    "# Now let's take a look at the year of the car, year above 2022 have to be eliminated\n",
    "print(df[df['year']>2022])\n",
    "# We have to drop this row\n",
    "\n",
    "df = df[df['year']<2023]"
   ]
  },
  {
   "cell_type": "code",
   "execution_count": 18,
   "id": "d2a8d588",
   "metadata": {},
   "outputs": [
    {
     "data": {
      "text/html": [
       "<div>\n",
       "<style scoped>\n",
       "    .dataframe tbody tr th:only-of-type {\n",
       "        vertical-align: middle;\n",
       "    }\n",
       "\n",
       "    .dataframe tbody tr th {\n",
       "        vertical-align: top;\n",
       "    }\n",
       "\n",
       "    .dataframe thead th {\n",
       "        text-align: right;\n",
       "    }\n",
       "</style>\n",
       "<table border=\"1\" class=\"dataframe\">\n",
       "  <thead>\n",
       "    <tr style=\"text-align: right;\">\n",
       "      <th></th>\n",
       "      <th>model</th>\n",
       "      <th>year</th>\n",
       "      <th>price</th>\n",
       "      <th>transmission</th>\n",
       "      <th>mileage</th>\n",
       "      <th>fuelType</th>\n",
       "      <th>tax</th>\n",
       "      <th>mpg</th>\n",
       "      <th>engineSize</th>\n",
       "      <th>car_brand</th>\n",
       "    </tr>\n",
       "  </thead>\n",
       "  <tbody>\n",
       "  </tbody>\n",
       "</table>\n",
       "</div>"
      ],
      "text/plain": [
       "Empty DataFrame\n",
       "Columns: [model, year, price, transmission, mileage, fuelType, tax, mpg, engineSize, car_brand]\n",
       "Index: []"
      ]
     },
     "execution_count": 18,
     "metadata": {},
     "output_type": "execute_result"
    }
   ],
   "source": [
    "df[df['year']>2022]"
   ]
  },
  {
   "cell_type": "markdown",
   "id": "c2bd89a1",
   "metadata": {},
   "source": [
    "## <center> LOAD <center>\n",
    "\n"
   ]
  },
  {
   "cell_type": "code",
   "execution_count": 19,
   "id": "923a43bc",
   "metadata": {},
   "outputs": [],
   "source": [
    "df.to_csv('car_sales.csv')"
   ]
  }
 ],
 "metadata": {
  "kernelspec": {
   "display_name": "Python 3 (ipykernel)",
   "language": "python",
   "name": "python3"
  },
  "language_info": {
   "codemirror_mode": {
    "name": "ipython",
    "version": 3
   },
   "file_extension": ".py",
   "mimetype": "text/x-python",
   "name": "python",
   "nbconvert_exporter": "python",
   "pygments_lexer": "ipython3",
   "version": "3.9.7"
  }
 },
 "nbformat": 4,
 "nbformat_minor": 5
}
